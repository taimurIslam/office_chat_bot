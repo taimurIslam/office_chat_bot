{
 "cells": [
  {
   "cell_type": "code",
   "execution_count": 1,
   "metadata": {
    "collapsed": true
   },
   "outputs": [],
   "source": [
    "import numpy as np\n",
    "import nltk"
   ]
  },
  {
   "cell_type": "code",
   "execution_count": 2,
   "metadata": {
    "collapsed": true
   },
   "outputs": [],
   "source": [
    "from nltk.corpus import stopwords\n",
    "from nltk.stem.lancaster import LancasterStemmer"
   ]
  },
  {
   "cell_type": "code",
   "execution_count": 3,
   "metadata": {
    "collapsed": true
   },
   "outputs": [],
   "source": [
    "stemmer = LancasterStemmer()"
   ]
  },
  {
   "cell_type": "code",
   "execution_count": 4,
   "metadata": {
    "collapsed": true
   },
   "outputs": [],
   "source": [
    "training_data = []"
   ]
  },
  {
   "cell_type": "code",
   "execution_count": 5,
   "metadata": {
    "collapsed": true
   },
   "outputs": [],
   "source": [
    "training_data.append({\"class\":\"question-1\", \"sentence\":\"How to create working area?\"})\n",
    "training_data.append({\"class\":\"question-1\", \"sentence\":\"How to make working area?\"})\n",
    "training_data.append({\"class\":\"question-1\", \"sentence\":\"What is the process of working area creation?\"})\n",
    "\n",
    "training_data.append({\"class\":\"question-2\", \"sentence\":\"How to create Samity?\"})\n",
    "training_data.append({\"class\":\"question-2\", \"sentence\":\"How to create Group?\"})\n",
    "training_data.append({\"class\":\"question-2\", \"sentence\":\"From where and how can we make Samity?\"})\n",
    "training_data.append({\"class\":\"question-2\", \"sentence\":\"From where and how can we make Group?\"})\n",
    "\n",
    "training_data.append({\"class\":\"question-3\", \"sentence\":\"How to add member?\"})\n",
    "training_data.append({\"class\":\"question-3\", \"sentence\":\"How to add new member?\"})\n",
    "training_data.append({\"class\":\"question-3\", \"sentence\":\"How to perform member admission in microfin360?\"})\n",
    "\n",
    "training_data.append({\"class\":\"question-4\", \"sentence\":\"How to open savings account?\"})\n",
    "training_data.append({\"class\":\"question-4\", \"sentence\":\"How to open a new savings account?\"})\n",
    "training_data.append({\"class\":\"question-4\", \"sentence\":\"How to create a general savings account?\"})\n",
    "\n",
    "training_data.append({\"class\":\"question-5\", \"sentence\":\"How to disburse loan to a member?\"})\n",
    "training_data.append({\"class\":\"question-5\", \"sentence\":\"What is the process of a new loan Disburse?\"})\n",
    "training_data.append({\"class\":\"question-5\", \"sentence\":\"How to create a new loan?\"})\n",
    "\n",
    "training_data.append({\"class\":\"question-6\", \"sentence\":\"From where we can entry regula collection?\"})\n",
    "training_data.append({\"class\":\"question-6\", \"sentence\":\"What is the process of entering Samity day collection?\"})\n",
    "training_data.append({\"class\":\"question-6\", \"sentence\":\"What is the regular collection entry process?\"})\n",
    "\n",
    "training_data.append({\"class\":\"question-7\", \"sentence\":\"How to give posting of without Samity day collection Loan?\"})\n",
    "training_data.append({\"class\":\"question-7\", \"sentence\":\"How to give posting of without Samity day collection Savings?\"})\n",
    "training_data.append({\"class\":\"question-7\", \"sentence\":\"How to enter without Samity day Loan collection?\"})\n",
    "training_data.append({\"class\":\"question-7\", \"sentence\":\"How to enter without Samity day Savings collection?\"})\n",
    "training_data.append({\"class\":\"question-7\", \"sentence\":\"From which menu we can give posting of without irregular Loan collection?\"})\n",
    "training_data.append({\"class\":\"question-7\", \"sentence\":\"From which menu we can give posting of without irregular Savings collection?\"})\n",
    "\n",
    "training_data.append({\"class\":\"question-8\", \"sentence\":\"How to change password?\"})\n",
    "training_data.append({\"class\":\"question-8\", \"sentence\":\"From where we can change password?\"})\n",
    "training_data.append({\"class\":\"question-8\", \"sentence\":\"How to change password frequently?\"})\n",
    "\n",
    "training_data.append({\"class\":\"question-9\", \"sentence\":\"How to correct savings deposit wrong entry?\"})\n",
    "training_data.append({\"class\":\"question-9\", \"sentence\":\"What is the process of correcting savings deposit entry?\"})\n",
    "training_data.append({\"class\":\"question-9\", \"sentence\":\"From which menu we can correct wrong deposit entry?\"})\n",
    "\n",
    "training_data.append({\"class\":\"question-10\", \"sentence\":\"How to correct loan transaction wrong entry?\"})\n",
    "training_data.append({\"class\":\"question-10\", \"sentence\":\"What is the process of loan transaction wrong entry?\"})\n",
    "training_data.append({\"class\":\"question-10\", \"sentence\":\"What should I do for a wrong transaction entry?\"})\n",
    "\n",
    "training_data.append({\"class\":\"question-11\", \"sentence\":\"From where we can see voucher?\"})\n",
    "training_data.append({\"class\":\"question-11\", \"sentence\":\"How to check voucher?\"})\n",
    "training_data.append({\"class\":\"question-11\", \"sentence\":\"Which menu to use for showing all vouchers?\"})\n",
    "\n",
    "training_data.append({\"class\":\"question-12\", \"sentence\":\"Where we can entry bank deposit or withdraw?\"})\n",
    "training_data.append({\"class\":\"question-12\", \"sentence\":\"How to enter bank deposit?\"})\n",
    "training_data.append({\"class\":\"question-12\", \"sentence\":\"How to give bank deposit posting?\"})\n",
    "\n",
    "training_data.append({\"class\":\"question-13\", \"sentence\":\"How to correct voucher wrong entry?\"})\n",
    "training_data.append({\"class\":\"question-13\", \"sentence\":\"What is the process of correcting voucher wrong entry?\"})\n",
    "training_data.append({\"class\":\"question-13\", \"sentence\":\"What should we do to correct a wrong entry in voucher?\"})\n",
    "\n",
    "training_data.append({\"class\":\"question-14\", \"sentence\":\"How to generate auto voucher?\"})\n",
    "training_data.append({\"class\":\"question-14\", \"sentence\":\"From where we can generate auto voucher?\"})\n",
    "training_data.append({\"class\":\"question-14\", \"sentence\":\"What is the process of auto voucher generation? \"})"
   ]
  },
  {
   "cell_type": "code",
   "execution_count": 6,
   "metadata": {},
   "outputs": [
    {
     "data": {
      "text/plain": [
       "[{'class': 'question-1', 'sentence': 'How to create working area?'},\n",
       " {'class': 'question-1', 'sentence': 'How to make working area?'},\n",
       " {'class': 'question-1',\n",
       "  'sentence': 'What is the process of working area creation?'},\n",
       " {'class': 'question-2', 'sentence': 'How to create Samity?'},\n",
       " {'class': 'question-2', 'sentence': 'How to create Group?'},\n",
       " {'class': 'question-2', 'sentence': 'From where and how can we make Samity?'},\n",
       " {'class': 'question-2', 'sentence': 'From where and how can we make Group?'},\n",
       " {'class': 'question-3', 'sentence': 'How to add member?'},\n",
       " {'class': 'question-3', 'sentence': 'How to add new member?'},\n",
       " {'class': 'question-3',\n",
       "  'sentence': 'How to perform member admission in microfin360?'},\n",
       " {'class': 'question-4', 'sentence': 'How to open savings account?'},\n",
       " {'class': 'question-4', 'sentence': 'How to open a new savings account?'},\n",
       " {'class': 'question-4',\n",
       "  'sentence': 'How to create a general savings account?'},\n",
       " {'class': 'question-5', 'sentence': 'How to disburse loan to a member?'},\n",
       " {'class': 'question-5',\n",
       "  'sentence': 'What is the process of a new loan Disburse?'},\n",
       " {'class': 'question-5', 'sentence': 'How to create a new loan?'},\n",
       " {'class': 'question-6',\n",
       "  'sentence': 'From where we can entry regula collection?'},\n",
       " {'class': 'question-6',\n",
       "  'sentence': 'What is the process of entering Samity day collection?'},\n",
       " {'class': 'question-6',\n",
       "  'sentence': 'What is the regular collection entry process?'},\n",
       " {'class': 'question-7',\n",
       "  'sentence': 'How to give posting of without Samity day collection Loan?'},\n",
       " {'class': 'question-7',\n",
       "  'sentence': 'How to give posting of without Samity day collection Savings?'},\n",
       " {'class': 'question-7',\n",
       "  'sentence': 'How to enter without Samity day Loan collection?'},\n",
       " {'class': 'question-7',\n",
       "  'sentence': 'How to enter without Samity day Savings collection?'},\n",
       " {'class': 'question-7',\n",
       "  'sentence': 'From which menu we can give posting of without irregular Loan collection?'},\n",
       " {'class': 'question-7',\n",
       "  'sentence': 'From which menu we can give posting of without irregular Savings collection?'},\n",
       " {'class': 'question-8', 'sentence': 'How to change password?'},\n",
       " {'class': 'question-8', 'sentence': 'From where we can change password?'},\n",
       " {'class': 'question-8', 'sentence': 'How to change password frequently?'},\n",
       " {'class': 'question-9',\n",
       "  'sentence': 'How to correct savings deposit wrong entry?'},\n",
       " {'class': 'question-9',\n",
       "  'sentence': 'What is the process of correcting savings deposit entry?'},\n",
       " {'class': 'question-9',\n",
       "  'sentence': 'From which menu we can correct wrong deposit entry?'},\n",
       " {'class': 'question-10',\n",
       "  'sentence': 'How to correct loan transaction wrong entry?'},\n",
       " {'class': 'question-10',\n",
       "  'sentence': 'What is the process of loan transaction wrong entry?'},\n",
       " {'class': 'question-10',\n",
       "  'sentence': 'What should I do for a wrong transaction entry?'},\n",
       " {'class': 'question-11', 'sentence': 'From where we can see voucher?'},\n",
       " {'class': 'question-11', 'sentence': 'How to check voucher?'},\n",
       " {'class': 'question-11',\n",
       "  'sentence': 'Which menu to use for showing all vouchers?'},\n",
       " {'class': 'question-12',\n",
       "  'sentence': 'Where we can entry bank deposit or withdraw?'},\n",
       " {'class': 'question-12', 'sentence': 'How to enter bank deposit?'},\n",
       " {'class': 'question-12', 'sentence': 'How to give bank deposit posting?'},\n",
       " {'class': 'question-13', 'sentence': 'How to correct voucher wrong entry?'},\n",
       " {'class': 'question-13',\n",
       "  'sentence': 'What is the process of correcting voucher wrong entry?'},\n",
       " {'class': 'question-13',\n",
       "  'sentence': 'What should we do to correct a wrong entry in voucher?'},\n",
       " {'class': 'question-14', 'sentence': 'How to generate auto voucher?'},\n",
       " {'class': 'question-14',\n",
       "  'sentence': 'From where we can generate auto voucher?'},\n",
       " {'class': 'question-14',\n",
       "  'sentence': 'What is the process of auto voucher generation? '}]"
      ]
     },
     "execution_count": 6,
     "metadata": {},
     "output_type": "execute_result"
    }
   ],
   "source": [
    "training_data"
   ]
  },
  {
   "cell_type": "code",
   "execution_count": 7,
   "metadata": {},
   "outputs": [
    {
     "name": "stdout",
     "output_type": "stream",
     "text": [
      "46 sentences of training data\n"
     ]
    }
   ],
   "source": [
    "print (\"%s sentences of training data\" % len(training_data))"
   ]
  },
  {
   "cell_type": "code",
   "execution_count": 8,
   "metadata": {
    "collapsed": true
   },
   "outputs": [],
   "source": [
    " a = set(\"i am taimur\")"
   ]
  },
  {
   "cell_type": "code",
   "execution_count": 9,
   "metadata": {},
   "outputs": [
    {
     "data": {
      "text/plain": [
       "{' ', 'a', 'i', 'm', 'r', 't', 'u'}"
      ]
     },
     "execution_count": 9,
     "metadata": {},
     "output_type": "execute_result"
    }
   ],
   "source": [
    "a"
   ]
  },
  {
   "cell_type": "code",
   "execution_count": 10,
   "metadata": {
    "collapsed": true
   },
   "outputs": [],
   "source": [
    "corpus_words = {}\n",
    "class_words = {}"
   ]
  },
  {
   "cell_type": "code",
   "execution_count": 11,
   "metadata": {},
   "outputs": [
    {
     "data": {
      "text/plain": [
       "['question-11',\n",
       " 'question-4',\n",
       " 'question-7',\n",
       " 'question-9',\n",
       " 'question-12',\n",
       " 'question-5',\n",
       " 'question-6',\n",
       " 'question-8',\n",
       " 'question-14',\n",
       " 'question-13',\n",
       " 'question-10',\n",
       " 'question-1',\n",
       " 'question-3',\n",
       " 'question-2']"
      ]
     },
     "execution_count": 11,
     "metadata": {},
     "output_type": "execute_result"
    }
   ],
   "source": [
    "classes = list(set([a['class'] for a in training_data]))\n",
    "classes"
   ]
  },
  {
   "cell_type": "code",
   "execution_count": 12,
   "metadata": {
    "collapsed": true
   },
   "outputs": [],
   "source": [
    "for c in classes:\n",
    "    class_words[c] = []"
   ]
  },
  {
   "cell_type": "code",
   "execution_count": 13,
   "metadata": {},
   "outputs": [
    {
     "data": {
      "text/plain": [
       "{'question-1': [],\n",
       " 'question-10': [],\n",
       " 'question-11': [],\n",
       " 'question-12': [],\n",
       " 'question-13': [],\n",
       " 'question-14': [],\n",
       " 'question-2': [],\n",
       " 'question-3': [],\n",
       " 'question-4': [],\n",
       " 'question-5': [],\n",
       " 'question-6': [],\n",
       " 'question-7': [],\n",
       " 'question-8': [],\n",
       " 'question-9': []}"
      ]
     },
     "execution_count": 13,
     "metadata": {},
     "output_type": "execute_result"
    }
   ],
   "source": [
    "class_words"
   ]
  },
  {
   "cell_type": "code",
   "execution_count": 14,
   "metadata": {
    "collapsed": true
   },
   "outputs": [],
   "source": [
    "for data in training_data:\n",
    "    for word in nltk.word_tokenize(data['sentence']):\n",
    "        if word not in [\"?\",\"'s\"]:\n",
    "            stemmed_word = stemmer.stem(word.lower())\n",
    "            \n",
    "            if stemmed_word not in corpus_words:\n",
    "                corpus_words[stemmed_word] =1\n",
    "            else:\n",
    "                corpus_words[stemmed_word] +=1\n",
    "            \n",
    "            class_words[data['class']].extend([stemmed_word])"
   ]
  },
  {
   "cell_type": "code",
   "execution_count": 15,
   "metadata": {},
   "outputs": [
    {
     "data": {
      "text/plain": [
       "{'a': 7,\n",
       " 'account': 3,\n",
       " 'ad': 2,\n",
       " 'admit': 1,\n",
       " 'al': 1,\n",
       " 'and': 2,\n",
       " 'are': 3,\n",
       " 'auto': 3,\n",
       " 'bank': 3,\n",
       " 'can': 10,\n",
       " 'chang': 3,\n",
       " 'check': 1,\n",
       " 'collect': 9,\n",
       " 'correct': 7,\n",
       " 'cre': 6,\n",
       " 'day': 5,\n",
       " 'deposit': 6,\n",
       " 'disburs': 2,\n",
       " 'do': 2,\n",
       " 'ent': 4,\n",
       " 'entry': 12,\n",
       " 'for': 2,\n",
       " 'frequ': 1,\n",
       " 'from': 9,\n",
       " 'gen': 4,\n",
       " 'giv': 5,\n",
       " 'group': 2,\n",
       " 'how': 27,\n",
       " 'i': 1,\n",
       " 'in': 2,\n",
       " 'irregul': 2,\n",
       " 'is': 8,\n",
       " 'loan': 8,\n",
       " 'mak': 3,\n",
       " 'memb': 4,\n",
       " 'menu': 4,\n",
       " 'microfin360': 1,\n",
       " 'new': 4,\n",
       " 'of': 11,\n",
       " 'op': 2,\n",
       " 'or': 1,\n",
       " 'password': 3,\n",
       " 'perform': 1,\n",
       " 'post': 5,\n",
       " 'process': 8,\n",
       " 'regul': 2,\n",
       " 'sam': 7,\n",
       " 'sav': 8,\n",
       " 'see': 1,\n",
       " 'should': 2,\n",
       " 'show': 1,\n",
       " 'the': 8,\n",
       " 'to': 28,\n",
       " 'transact': 3,\n",
       " 'us': 1,\n",
       " 'vouch': 9,\n",
       " 'we': 11,\n",
       " 'what': 10,\n",
       " 'wher': 7,\n",
       " 'which': 4,\n",
       " 'withdraw': 1,\n",
       " 'without': 6,\n",
       " 'work': 3,\n",
       " 'wrong': 8}"
      ]
     },
     "execution_count": 15,
     "metadata": {},
     "output_type": "execute_result"
    }
   ],
   "source": [
    "corpus_words"
   ]
  },
  {
   "cell_type": "code",
   "execution_count": 16,
   "metadata": {},
   "outputs": [
    {
     "data": {
      "text/plain": [
       "{'question-1': ['how',\n",
       "  'to',\n",
       "  'cre',\n",
       "  'work',\n",
       "  'are',\n",
       "  'how',\n",
       "  'to',\n",
       "  'mak',\n",
       "  'work',\n",
       "  'are',\n",
       "  'what',\n",
       "  'is',\n",
       "  'the',\n",
       "  'process',\n",
       "  'of',\n",
       "  'work',\n",
       "  'are',\n",
       "  'cre'],\n",
       " 'question-10': ['how',\n",
       "  'to',\n",
       "  'correct',\n",
       "  'loan',\n",
       "  'transact',\n",
       "  'wrong',\n",
       "  'entry',\n",
       "  'what',\n",
       "  'is',\n",
       "  'the',\n",
       "  'process',\n",
       "  'of',\n",
       "  'loan',\n",
       "  'transact',\n",
       "  'wrong',\n",
       "  'entry',\n",
       "  'what',\n",
       "  'should',\n",
       "  'i',\n",
       "  'do',\n",
       "  'for',\n",
       "  'a',\n",
       "  'wrong',\n",
       "  'transact',\n",
       "  'entry'],\n",
       " 'question-11': ['from',\n",
       "  'wher',\n",
       "  'we',\n",
       "  'can',\n",
       "  'see',\n",
       "  'vouch',\n",
       "  'how',\n",
       "  'to',\n",
       "  'check',\n",
       "  'vouch',\n",
       "  'which',\n",
       "  'menu',\n",
       "  'to',\n",
       "  'us',\n",
       "  'for',\n",
       "  'show',\n",
       "  'al',\n",
       "  'vouch'],\n",
       " 'question-12': ['wher',\n",
       "  'we',\n",
       "  'can',\n",
       "  'entry',\n",
       "  'bank',\n",
       "  'deposit',\n",
       "  'or',\n",
       "  'withdraw',\n",
       "  'how',\n",
       "  'to',\n",
       "  'ent',\n",
       "  'bank',\n",
       "  'deposit',\n",
       "  'how',\n",
       "  'to',\n",
       "  'giv',\n",
       "  'bank',\n",
       "  'deposit',\n",
       "  'post'],\n",
       " 'question-13': ['how',\n",
       "  'to',\n",
       "  'correct',\n",
       "  'vouch',\n",
       "  'wrong',\n",
       "  'entry',\n",
       "  'what',\n",
       "  'is',\n",
       "  'the',\n",
       "  'process',\n",
       "  'of',\n",
       "  'correct',\n",
       "  'vouch',\n",
       "  'wrong',\n",
       "  'entry',\n",
       "  'what',\n",
       "  'should',\n",
       "  'we',\n",
       "  'do',\n",
       "  'to',\n",
       "  'correct',\n",
       "  'a',\n",
       "  'wrong',\n",
       "  'entry',\n",
       "  'in',\n",
       "  'vouch'],\n",
       " 'question-14': ['how',\n",
       "  'to',\n",
       "  'gen',\n",
       "  'auto',\n",
       "  'vouch',\n",
       "  'from',\n",
       "  'wher',\n",
       "  'we',\n",
       "  'can',\n",
       "  'gen',\n",
       "  'auto',\n",
       "  'vouch',\n",
       "  'what',\n",
       "  'is',\n",
       "  'the',\n",
       "  'process',\n",
       "  'of',\n",
       "  'auto',\n",
       "  'vouch',\n",
       "  'gen'],\n",
       " 'question-2': ['how',\n",
       "  'to',\n",
       "  'cre',\n",
       "  'sam',\n",
       "  'how',\n",
       "  'to',\n",
       "  'cre',\n",
       "  'group',\n",
       "  'from',\n",
       "  'wher',\n",
       "  'and',\n",
       "  'how',\n",
       "  'can',\n",
       "  'we',\n",
       "  'mak',\n",
       "  'sam',\n",
       "  'from',\n",
       "  'wher',\n",
       "  'and',\n",
       "  'how',\n",
       "  'can',\n",
       "  'we',\n",
       "  'mak',\n",
       "  'group'],\n",
       " 'question-3': ['how',\n",
       "  'to',\n",
       "  'ad',\n",
       "  'memb',\n",
       "  'how',\n",
       "  'to',\n",
       "  'ad',\n",
       "  'new',\n",
       "  'memb',\n",
       "  'how',\n",
       "  'to',\n",
       "  'perform',\n",
       "  'memb',\n",
       "  'admit',\n",
       "  'in',\n",
       "  'microfin360'],\n",
       " 'question-4': ['how',\n",
       "  'to',\n",
       "  'op',\n",
       "  'sav',\n",
       "  'account',\n",
       "  'how',\n",
       "  'to',\n",
       "  'op',\n",
       "  'a',\n",
       "  'new',\n",
       "  'sav',\n",
       "  'account',\n",
       "  'how',\n",
       "  'to',\n",
       "  'cre',\n",
       "  'a',\n",
       "  'gen',\n",
       "  'sav',\n",
       "  'account'],\n",
       " 'question-5': ['how',\n",
       "  'to',\n",
       "  'disburs',\n",
       "  'loan',\n",
       "  'to',\n",
       "  'a',\n",
       "  'memb',\n",
       "  'what',\n",
       "  'is',\n",
       "  'the',\n",
       "  'process',\n",
       "  'of',\n",
       "  'a',\n",
       "  'new',\n",
       "  'loan',\n",
       "  'disburs',\n",
       "  'how',\n",
       "  'to',\n",
       "  'cre',\n",
       "  'a',\n",
       "  'new',\n",
       "  'loan'],\n",
       " 'question-6': ['from',\n",
       "  'wher',\n",
       "  'we',\n",
       "  'can',\n",
       "  'entry',\n",
       "  'regul',\n",
       "  'collect',\n",
       "  'what',\n",
       "  'is',\n",
       "  'the',\n",
       "  'process',\n",
       "  'of',\n",
       "  'ent',\n",
       "  'sam',\n",
       "  'day',\n",
       "  'collect',\n",
       "  'what',\n",
       "  'is',\n",
       "  'the',\n",
       "  'regul',\n",
       "  'collect',\n",
       "  'entry',\n",
       "  'process'],\n",
       " 'question-7': ['how',\n",
       "  'to',\n",
       "  'giv',\n",
       "  'post',\n",
       "  'of',\n",
       "  'without',\n",
       "  'sam',\n",
       "  'day',\n",
       "  'collect',\n",
       "  'loan',\n",
       "  'how',\n",
       "  'to',\n",
       "  'giv',\n",
       "  'post',\n",
       "  'of',\n",
       "  'without',\n",
       "  'sam',\n",
       "  'day',\n",
       "  'collect',\n",
       "  'sav',\n",
       "  'how',\n",
       "  'to',\n",
       "  'ent',\n",
       "  'without',\n",
       "  'sam',\n",
       "  'day',\n",
       "  'loan',\n",
       "  'collect',\n",
       "  'how',\n",
       "  'to',\n",
       "  'ent',\n",
       "  'without',\n",
       "  'sam',\n",
       "  'day',\n",
       "  'sav',\n",
       "  'collect',\n",
       "  'from',\n",
       "  'which',\n",
       "  'menu',\n",
       "  'we',\n",
       "  'can',\n",
       "  'giv',\n",
       "  'post',\n",
       "  'of',\n",
       "  'without',\n",
       "  'irregul',\n",
       "  'loan',\n",
       "  'collect',\n",
       "  'from',\n",
       "  'which',\n",
       "  'menu',\n",
       "  'we',\n",
       "  'can',\n",
       "  'giv',\n",
       "  'post',\n",
       "  'of',\n",
       "  'without',\n",
       "  'irregul',\n",
       "  'sav',\n",
       "  'collect'],\n",
       " 'question-8': ['how',\n",
       "  'to',\n",
       "  'chang',\n",
       "  'password',\n",
       "  'from',\n",
       "  'wher',\n",
       "  'we',\n",
       "  'can',\n",
       "  'chang',\n",
       "  'password',\n",
       "  'how',\n",
       "  'to',\n",
       "  'chang',\n",
       "  'password',\n",
       "  'frequ'],\n",
       " 'question-9': ['how',\n",
       "  'to',\n",
       "  'correct',\n",
       "  'sav',\n",
       "  'deposit',\n",
       "  'wrong',\n",
       "  'entry',\n",
       "  'what',\n",
       "  'is',\n",
       "  'the',\n",
       "  'process',\n",
       "  'of',\n",
       "  'correct',\n",
       "  'sav',\n",
       "  'deposit',\n",
       "  'entry',\n",
       "  'from',\n",
       "  'which',\n",
       "  'menu',\n",
       "  'we',\n",
       "  'can',\n",
       "  'correct',\n",
       "  'wrong',\n",
       "  'deposit',\n",
       "  'entry']}"
      ]
     },
     "execution_count": 16,
     "metadata": {},
     "output_type": "execute_result"
    }
   ],
   "source": [
    "class_words"
   ]
  },
  {
   "cell_type": "code",
   "execution_count": 17,
   "metadata": {
    "collapsed": true
   },
   "outputs": [],
   "source": [
    "sentence = \"good day for us to have lunch?\""
   ]
  },
  {
   "cell_type": "code",
   "execution_count": 18,
   "metadata": {
    "collapsed": true
   },
   "outputs": [],
   "source": [
    "def calculate_class_score(sentence, class_name, show_details=True):\n",
    "    score = 0\n",
    "    for word in nltk.word_tokenize(sentence):\n",
    "        if stemmer.stem(word) in class_words[class_name]:\n",
    "            score +=1\n",
    "            if show_details:\n",
    "                print(\"   match: %s\" % stemmer.stem(word.lower()))\n",
    "    return score"
   ]
  },
  {
   "cell_type": "code",
   "execution_count": 19,
   "metadata": {},
   "outputs": [
    {
     "data": {
      "text/plain": [
       "dict_keys(['question-11', 'question-4', 'question-7', 'question-9', 'question-12', 'question-5', 'question-6', 'question-8', 'question-14', 'question-13', 'question-10', 'question-1', 'question-3', 'question-2'])"
      ]
     },
     "execution_count": 19,
     "metadata": {},
     "output_type": "execute_result"
    }
   ],
   "source": [
    "class_words.keys()"
   ]
  },
  {
   "cell_type": "code",
   "execution_count": 20,
   "metadata": {},
   "outputs": [
    {
     "name": "stdout",
     "output_type": "stream",
     "text": [
      "   match: for\n",
      "   match: us\n",
      "   match: to\n",
      "Class: question-11  Score: 3 \n",
      "\n",
      "   match: to\n",
      "Class: question-4  Score: 1 \n",
      "\n",
      "   match: day\n",
      "   match: to\n",
      "Class: question-7  Score: 2 \n",
      "\n",
      "   match: to\n",
      "Class: question-9  Score: 1 \n",
      "\n",
      "   match: to\n",
      "Class: question-12  Score: 1 \n",
      "\n",
      "   match: to\n",
      "Class: question-5  Score: 1 \n",
      "\n",
      "   match: day\n",
      "Class: question-6  Score: 1 \n",
      "\n",
      "   match: to\n",
      "Class: question-8  Score: 1 \n",
      "\n",
      "   match: to\n",
      "Class: question-14  Score: 1 \n",
      "\n",
      "   match: to\n",
      "Class: question-13  Score: 1 \n",
      "\n",
      "   match: for\n",
      "   match: to\n",
      "Class: question-10  Score: 2 \n",
      "\n",
      "   match: to\n",
      "Class: question-1  Score: 1 \n",
      "\n",
      "   match: to\n",
      "Class: question-3  Score: 1 \n",
      "\n",
      "   match: to\n",
      "Class: question-2  Score: 1 \n",
      "\n"
     ]
    }
   ],
   "source": [
    "for c in class_words.keys():\n",
    "    print (\"Class: %s  Score: %s \\n\" % (c, calculate_class_score(sentence, c)))"
   ]
  },
  {
   "cell_type": "code",
   "execution_count": 21,
   "metadata": {
    "collapsed": true
   },
   "outputs": [],
   "source": [
    "def calculate_class_score_commonly(sentence, class_name, show_details=True):\n",
    "    score = 0\n",
    "    for word in nltk.word_tokenize(sentence):\n",
    "        if stemmer.stem(word) in class_words[class_name]:\n",
    "            score += (1 / corpus_words[stemmer.stem(word.lower())])\n",
    "            if show_details:\n",
    "                print (\"   match: %s (%s)\" % (stemmer.stem(word.lower()), 1 / corpus_words[stemmer.stem(word.lower())]))\n",
    "    return score"
   ]
  },
  {
   "cell_type": "code",
   "execution_count": 22,
   "metadata": {},
   "outputs": [
    {
     "name": "stdout",
     "output_type": "stream",
     "text": [
      "   match: for (0.5)\n",
      "   match: us (1.0)\n",
      "   match: to (0.03571428571428571)\n",
      "Class: question-11  Score: 1.5357142857142858 \n",
      "\n",
      "   match: to (0.03571428571428571)\n",
      "Class: question-4  Score: 0.03571428571428571 \n",
      "\n",
      "   match: day (0.2)\n",
      "   match: to (0.03571428571428571)\n",
      "Class: question-7  Score: 0.2357142857142857 \n",
      "\n",
      "   match: to (0.03571428571428571)\n",
      "Class: question-9  Score: 0.03571428571428571 \n",
      "\n",
      "   match: to (0.03571428571428571)\n",
      "Class: question-12  Score: 0.03571428571428571 \n",
      "\n",
      "   match: to (0.03571428571428571)\n",
      "Class: question-5  Score: 0.03571428571428571 \n",
      "\n",
      "   match: day (0.2)\n",
      "Class: question-6  Score: 0.2 \n",
      "\n",
      "   match: to (0.03571428571428571)\n",
      "Class: question-8  Score: 0.03571428571428571 \n",
      "\n",
      "   match: to (0.03571428571428571)\n",
      "Class: question-14  Score: 0.03571428571428571 \n",
      "\n",
      "   match: to (0.03571428571428571)\n",
      "Class: question-13  Score: 0.03571428571428571 \n",
      "\n",
      "   match: for (0.5)\n",
      "   match: to (0.03571428571428571)\n",
      "Class: question-10  Score: 0.5357142857142857 \n",
      "\n",
      "   match: to (0.03571428571428571)\n",
      "Class: question-1  Score: 0.03571428571428571 \n",
      "\n",
      "   match: to (0.03571428571428571)\n",
      "Class: question-3  Score: 0.03571428571428571 \n",
      "\n",
      "   match: to (0.03571428571428571)\n",
      "Class: question-2  Score: 0.03571428571428571 \n",
      "\n"
     ]
    }
   ],
   "source": [
    "for c in class_words.keys():\n",
    "    print (\"Class: %s  Score: %s \\n\" % (c, calculate_class_score_commonly(sentence, c)))"
   ]
  },
  {
   "cell_type": "code",
   "execution_count": 23,
   "metadata": {
    "collapsed": true
   },
   "outputs": [],
   "source": [
    "response = {\"question-1\":\"Please go to working area from Address configuration config menu then click Add button on the right side of the page, after fill-up the fields with proper info then click to Save.[N.B: Need to add Division, district, Thana, Unions & Villages first to create a working area]Config Address configurationworking areaClick Add buttonfill-up the fieldsSave.\"\n",
    "           ,\"question-2\":\"Please go Samity/Group menu then click Samity, click Add button on the right side of the page, after fill-up the fields with proper info then click to Save.[N.B: Field officer and working area are the pre-requisite of Creating Samity/Group]\"\n",
    "           ,\"question-3\":\"Please go to Member menu then click to Member information, then click Add button on the right side of the page, after fill-up the fields with proper info then click to Save.[N.B: Samity/Group is the pre-requisite of add member]\"\n",
    "           ,\"question-4\":\"Please go to Savings from Savings menu then click Add button on the right side of the page, after fill-up the fields with proper info then click to Save.\"\n",
    "           ,\"question-5\":\"Please go to Regular Loan Accounts from Loan menu then click Add button on the right side of the page, after fill-up the fields with proper info then click to Save.\"\n",
    "           ,\"question-6\":\"Please go to Auto Process from Process menu. click Action button from samity list then entry member wise collection of this day, after entry all the members collection click to Preview then Save.\"\n",
    "           ,\"question-7\":\"Please go to Regular Loan transaction/Savings Deposit page from Loan/Savings Menu then click Add button on the right side of the page, after fill-up the fields with proper info then click to Save.\"\n",
    "           ,\"question-8\":\"Please click Change password on the right side of the top of the page or from Admin menu, after fill-up the given fields with proper info then click to Save.\"\n",
    "           ,\"question-9\":\"Please go to Transaction Un-authorization from process menu to Un-authorize the wrong entry then go to Auto process or Savings deposit option then click to Edit button on Action column of the wrong transaction. After correction the wrong entries click to Save and then authorize this transaction again.[N.B: If need to correction on back dated transaction need to go on transaction date first]\"\n",
    "           ,\"question-10\":\"Please go to Transaction Un-authorization from process menu to Un-authorize the wrong entry then go to Auto process or Regular Loan Transaction option then click to Edit button on Action column of the wrong transaction. After correction the wrong entries click to Save and then authorize this transaction again.[N.B: If need to correction on back dated transaction need to go on transaction date first]\"\n",
    "           ,\"question-11\":\"Please go to Voucher List from Vouchers menu on AIS module to see all vouchers.\"\n",
    "           ,\"question-12\":\"Please go to Contra voucher from Vouchers menu then entry Debit & credit account, amount & narration click to add and finally click to Save.\"\n",
    "           ,\"question-13\":\"Please go to Voucher List from voucher menu then click the Edit button on action column of the wrong voucher after correcting wrong entry click Save button again.\"\n",
    "           ,\"question-14\":\"Please go to Receipt/payment/Journal voucher from Auto voucher menu, select Fund & Date then click Get Receipt/Payment/Journal Data then click to save.\"\n",
    "           }"
   ]
  },
  {
   "cell_type": "code",
   "execution_count": 24,
   "metadata": {
    "collapsed": true
   },
   "outputs": [],
   "source": [
    "def classify(sentence):\n",
    "    high_class = None\n",
    "    high_score = 0\n",
    "    for c in class_words.keys():\n",
    "        score = calculate_class_score_commonly(sentence, c, show_details=False)\n",
    "        if score>high_score:\n",
    "            high_class = c\n",
    "            high_score = score\n",
    "        if score == None:\n",
    "            understand = False\n",
    "            \n",
    "    return response[high_class]"
   ]
  },
  {
   "cell_type": "code",
   "execution_count": 25,
   "metadata": {},
   "outputs": [
    {
     "ename": "KeyError",
     "evalue": "'goodbye'",
     "output_type": "error",
     "traceback": [
      "\u001b[1;31m---------------------------------------------------------------------------\u001b[0m",
      "\u001b[1;31mKeyError\u001b[0m                                  Traceback (most recent call last)",
      "\u001b[1;32m<ipython-input-25-e274975b8a99>\u001b[0m in \u001b[0;36m<module>\u001b[1;34m()\u001b[0m\n\u001b[1;32m----> 1\u001b[1;33m \u001b[0mresponse\u001b[0m\u001b[1;33m[\u001b[0m\u001b[1;34m'goodbye'\u001b[0m\u001b[1;33m]\u001b[0m\u001b[1;33m\u001b[0m\u001b[0m\n\u001b[0m",
      "\u001b[1;31mKeyError\u001b[0m: 'goodbye'"
     ]
    }
   ],
   "source": [
    "response['goodbye']"
   ]
  },
  {
   "cell_type": "code",
   "execution_count": 26,
   "metadata": {},
   "outputs": [
    {
     "data": {
      "text/plain": [
       "'Please go to Voucher List from Vouchers menu on AIS module to see all vouchers.'"
      ]
     },
     "execution_count": 26,
     "metadata": {},
     "output_type": "execute_result"
    }
   ],
   "source": [
    "classify(\"can\")"
   ]
  },
  {
   "cell_type": "code",
   "execution_count": null,
   "metadata": {
    "scrolled": true
   },
   "outputs": [],
   "source": [
    "while 1:\n",
    "    user_question = input(\"User: \")\n",
    "    print(\"Microfinance 360: \"+str(classify(user_question)))"
   ]
  },
  {
   "cell_type": "code",
   "execution_count": null,
   "metadata": {
    "collapsed": true
   },
   "outputs": [],
   "source": []
  }
 ],
 "metadata": {
  "kernelspec": {
   "display_name": "Python 3",
   "language": "python",
   "name": "python3"
  },
  "language_info": {
   "codemirror_mode": {
    "name": "ipython",
    "version": 3
   },
   "file_extension": ".py",
   "mimetype": "text/x-python",
   "name": "python",
   "nbconvert_exporter": "python",
   "pygments_lexer": "ipython3",
   "version": "3.6.1"
  }
 },
 "nbformat": 4,
 "nbformat_minor": 2
}
